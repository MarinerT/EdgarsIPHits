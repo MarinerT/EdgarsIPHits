{
 "cells": [
  {
   "cell_type": "code",
   "execution_count": 139,
   "metadata": {},
   "outputs": [],
   "source": [
    "import pandas as pd\n",
    "import ipaddress\n",
    "import numpy as np\n",
    "import datetime"
   ]
  },
  {
   "cell_type": "code",
   "execution_count": 169,
   "metadata": {},
   "outputs": [
    {
     "data": {
      "text/html": [
       "<div>\n",
       "<style scoped>\n",
       "    .dataframe tbody tr th:only-of-type {\n",
       "        vertical-align: middle;\n",
       "    }\n",
       "\n",
       "    .dataframe tbody tr th {\n",
       "        vertical-align: top;\n",
       "    }\n",
       "\n",
       "    .dataframe thead th {\n",
       "        text-align: right;\n",
       "    }\n",
       "</style>\n",
       "<table border=\"1\" class=\"dataframe\">\n",
       "  <thead>\n",
       "    <tr style=\"text-align: right;\">\n",
       "      <th></th>\n",
       "      <th>from_ip</th>\n",
       "      <th>to_ip</th>\n",
       "      <th>code</th>\n",
       "      <th>country</th>\n",
       "    </tr>\n",
       "  </thead>\n",
       "  <tbody>\n",
       "    <tr>\n",
       "      <th>0</th>\n",
       "      <td>1.0.0.0</td>\n",
       "      <td>1.0.0.255</td>\n",
       "      <td>US</td>\n",
       "      <td>United States of America</td>\n",
       "    </tr>\n",
       "    <tr>\n",
       "      <th>1</th>\n",
       "      <td>1.0.1.0</td>\n",
       "      <td>1.0.3.255</td>\n",
       "      <td>CN</td>\n",
       "      <td>China</td>\n",
       "    </tr>\n",
       "    <tr>\n",
       "      <th>2</th>\n",
       "      <td>1.0.4.0</td>\n",
       "      <td>1.0.7.255</td>\n",
       "      <td>AU</td>\n",
       "      <td>Australia</td>\n",
       "    </tr>\n",
       "    <tr>\n",
       "      <th>3</th>\n",
       "      <td>1.0.8.0</td>\n",
       "      <td>1.0.15.255</td>\n",
       "      <td>CN</td>\n",
       "      <td>China</td>\n",
       "    </tr>\n",
       "    <tr>\n",
       "      <th>4</th>\n",
       "      <td>1.0.16.0</td>\n",
       "      <td>1.0.31.255</td>\n",
       "      <td>JP</td>\n",
       "      <td>Japan</td>\n",
       "    </tr>\n",
       "    <tr>\n",
       "      <th>5</th>\n",
       "      <td>1.0.32.0</td>\n",
       "      <td>1.0.63.255</td>\n",
       "      <td>CN</td>\n",
       "      <td>China</td>\n",
       "    </tr>\n",
       "    <tr>\n",
       "      <th>6</th>\n",
       "      <td>1.0.64.0</td>\n",
       "      <td>1.0.127.255</td>\n",
       "      <td>JP</td>\n",
       "      <td>Japan</td>\n",
       "    </tr>\n",
       "    <tr>\n",
       "      <th>7</th>\n",
       "      <td>1.0.128.0</td>\n",
       "      <td>1.0.255.255</td>\n",
       "      <td>TH</td>\n",
       "      <td>Thailand</td>\n",
       "    </tr>\n",
       "    <tr>\n",
       "      <th>8</th>\n",
       "      <td>1.1.0.0</td>\n",
       "      <td>1.1.0.255</td>\n",
       "      <td>CN</td>\n",
       "      <td>China</td>\n",
       "    </tr>\n",
       "    <tr>\n",
       "      <th>9</th>\n",
       "      <td>1.1.1.0</td>\n",
       "      <td>1.1.1.255</td>\n",
       "      <td>US</td>\n",
       "      <td>United States of America</td>\n",
       "    </tr>\n",
       "  </tbody>\n",
       "</table>\n",
       "</div>"
      ],
      "text/plain": [
       "     from_ip        to_ip code                   country\n",
       "0    1.0.0.0    1.0.0.255   US  United States of America\n",
       "1    1.0.1.0    1.0.3.255   CN                     China\n",
       "2    1.0.4.0    1.0.7.255   AU                 Australia\n",
       "3    1.0.8.0   1.0.15.255   CN                     China\n",
       "4   1.0.16.0   1.0.31.255   JP                     Japan\n",
       "5   1.0.32.0   1.0.63.255   CN                     China\n",
       "6   1.0.64.0  1.0.127.255   JP                     Japan\n",
       "7  1.0.128.0  1.0.255.255   TH                  Thailand\n",
       "8    1.1.0.0    1.1.0.255   CN                     China\n",
       "9    1.1.1.0    1.1.1.255   US  United States of America"
      ]
     },
     "execution_count": 169,
     "metadata": {},
     "output_type": "execute_result"
    }
   ],
   "source": [
    "df_geoips = pd.read_csv('~/Downloads/IP2LOCATION-LITE-DB1.CSV')\n",
    "#data cleaning\n",
    "df_geoips.iloc[:,0] = df_geoips.iloc[:,0].apply(lambda x: ipaddress.ip_address(x))\n",
    "df_geoips.iloc[:,1] = df_geoips.iloc[:,1].apply(lambda x: ipaddress.ip_address(x))\n",
    "df_geoips.columns = [\"from_ip\",\"to_ip\",\"code\",\"country\"]\n",
    "df_geoips.head(10)"
   ]
  },
  {
   "cell_type": "code",
   "execution_count": 78,
   "metadata": {},
   "outputs": [],
   "source": [
    "filename = 'log20170630.csv'"
   ]
  },
  {
   "cell_type": "code",
   "execution_count": 155,
   "metadata": {},
   "outputs": [],
   "source": [
    "def pipeline(filename):\n",
    "    df = pd.read_csv(filename)\n",
    "    arr = df['ip']\n",
    "    return arr\n",
    "\n",
    "def to_ipadd(arr): \n",
    "    return [np.char.replace(ip, ip[-3:],'000') for ip in arr]\n",
    "\n",
    "def getdate(string):\n",
    "    return string[3:11]"
   ]
  },
  {
   "cell_type": "code",
   "execution_count": 129,
   "metadata": {},
   "outputs": [],
   "source": [
    "ip_array = pipeline(filename)"
   ]
  },
  {
   "cell_type": "code",
   "execution_count": 132,
   "metadata": {},
   "outputs": [],
   "source": [
    "clean_ip = np.array(to_ipadd(ip_array)) "
   ]
  },
  {
   "cell_type": "code",
   "execution_count": 172,
   "metadata": {},
   "outputs": [],
   "source": [
    "df = pd.DataFrame(clean_ip, columns=['ip'])"
   ]
  },
  {
   "cell_type": "code",
   "execution_count": null,
   "metadata": {},
   "outputs": [],
   "source": [
    "df.assign(key=1).merge(df_geoips.assign(key=1), on='key')\\\n",
    "                 .drop(columns='key')\\\n",
    "                 .query('`ip`.between(`from_ip`, `to_ip`)')\\\n",
    "                 .drop(columns=['from_ip', 'to_ip'])\\\n",
    "                 .reset_index(drop=True)"
   ]
  },
  {
   "cell_type": "code",
   "execution_count": null,
   "metadata": {},
   "outputs": [],
   "source": []
  },
  {
   "cell_type": "code",
   "execution_count": 164,
   "metadata": {},
   "outputs": [
    {
     "ename": "AttributeError",
     "evalue": "'numpy.ndarray' object has no attribute 'map'",
     "output_type": "error",
     "traceback": [
      "\u001b[0;31m---------------------------------------------------------------------------\u001b[0m",
      "\u001b[0;31mAttributeError\u001b[0m                            Traceback (most recent call last)",
      "\u001b[0;32m<ipython-input-164-872056590280>\u001b[0m in \u001b[0;36m<module>\u001b[0;34m\u001b[0m\n\u001b[0;32m----> 1\u001b[0;31m \u001b[0mcountry\u001b[0m \u001b[0;34m=\u001b[0m \u001b[0mclean_ip\u001b[0m\u001b[0;34m.\u001b[0m\u001b[0mmap\u001b[0m\u001b[0;34m(\u001b[0m\u001b[0;32mlambda\u001b[0m \u001b[0mx\u001b[0m \u001b[0;34m:\u001b[0m \u001b[0mdf_geoips\u001b[0m\u001b[0;34m.\u001b[0m\u001b[0miloc\u001b[0m\u001b[0;34m[\u001b[0m\u001b[0mdf_geoips\u001b[0m\u001b[0;34m.\u001b[0m\u001b[0mindex\u001b[0m\u001b[0;34m.\u001b[0m\u001b[0mget_loc\u001b[0m\u001b[0;34m(\u001b[0m\u001b[0mx\u001b[0m\u001b[0;34m)\u001b[0m\u001b[0;34m]\u001b[0m\u001b[0;34m)\u001b[0m\u001b[0;34m\u001b[0m\u001b[0;34m\u001b[0m\u001b[0m\n\u001b[0m",
      "\u001b[0;31mAttributeError\u001b[0m: 'numpy.ndarray' object has no attribute 'map'"
     ]
    }
   ],
   "source": [
    "country = clean_ip.map(lambda x : df_geoips.iloc[df_geoips.index.get_loc(x)])"
   ]
  },
  {
   "cell_type": "code",
   "execution_count": null,
   "metadata": {},
   "outputs": [],
   "source": []
  },
  {
   "cell_type": "code",
   "execution_count": 39,
   "metadata": {},
   "outputs": [],
   "source": []
  },
  {
   "cell_type": "code",
   "execution_count": null,
   "metadata": {},
   "outputs": [],
   "source": []
  }
 ],
 "metadata": {
  "kernelspec": {
   "display_name": "Python 3",
   "language": "python",
   "name": "python3"
  },
  "language_info": {
   "codemirror_mode": {
    "name": "ipython",
    "version": 3
   },
   "file_extension": ".py",
   "mimetype": "text/x-python",
   "name": "python",
   "nbconvert_exporter": "python",
   "pygments_lexer": "ipython3",
   "version": "3.7.3"
  }
 },
 "nbformat": 4,
 "nbformat_minor": 2
}
