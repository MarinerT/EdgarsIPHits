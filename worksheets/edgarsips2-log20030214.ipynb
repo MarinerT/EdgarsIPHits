{
 "cells": [
  {
   "cell_type": "code",
   "execution_count": 11,
   "metadata": {},
   "outputs": [],
   "source": [
    "import pandas as pd\n",
    "import ipaddress\n",
    "import numpy as np\n",
    "import pandasql as ps"
   ]
  },
  {
   "cell_type": "code",
   "execution_count": 12,
   "metadata": {},
   "outputs": [],
   "source": [
    "filename = '~/Downloads/log20030214/log20030214.csv'"
   ]
  },
  {
   "cell_type": "code",
   "execution_count": 13,
   "metadata": {},
   "outputs": [],
   "source": [
    "def pipeline(filename):\n",
    "    df = pd.read_csv(filename, nrows=20000)\n",
    "    return df[['ip', 'date', 'time','cik', 'accession']].drop_duplicates()\n",
    "\n",
    "def to_ipaddress(arr): \n",
    "    arr = [np.char.replace(ip, ip[-3:],'000') for ip in arr]\n",
    "    return [int(ipaddress.IPv4Address(x)) for x in arr]"
   ]
  },
  {
   "cell_type": "code",
   "execution_count": 14,
   "metadata": {},
   "outputs": [],
   "source": [
    "df = pipeline(filename)"
   ]
  },
  {
   "cell_type": "code",
   "execution_count": 15,
   "metadata": {},
   "outputs": [],
   "source": [
    "df['ip']= to_ipaddress(df['ip'])"
   ]
  },
  {
   "cell_type": "code",
   "execution_count": 9,
   "metadata": {},
   "outputs": [
    {
     "name": "stdout",
     "output_type": "stream",
     "text": [
      "<class 'pandas.core.frame.DataFrame'>\n",
      "Int64Index: 18981 entries, 0 to 19999\n",
      "Data columns (total 5 columns):\n",
      "ip           18981 non-null int64\n",
      "date         18981 non-null object\n",
      "time         18981 non-null object\n",
      "cik          18981 non-null float64\n",
      "accession    18981 non-null object\n",
      "dtypes: float64(1), int64(1), object(3)\n",
      "memory usage: 889.7+ KB\n"
     ]
    }
   ],
   "source": [
    "df.info()"
   ]
  },
  {
   "cell_type": "code",
   "execution_count": 16,
   "metadata": {},
   "outputs": [],
   "source": [
    "df_geoips = pd.read_csv('~/Downloads/IP2LOCATION-LITE-DB1.CSV')\n",
    "df_geoips.iloc[:,0] = df_geoips.iloc[:,0].apply(lambda x: int(ipaddress.IPv4Address(x)))\n",
    "df_geoips.iloc[:,1] = df_geoips.iloc[:,1].apply(lambda x: int(ipaddress.IPv4Address(x)))\n",
    "df_geoips.columns = [\"from_ip\",\"to_ip\",\"code\",\"country\"]\n",
    "sqlcode = '''\n",
    "    SELECT * \n",
    "    FROM df, df_geoips\n",
    "    WHERE ip BETWEEN from_ip AND to_ip\n",
    "'''\n",
    "newdf = ps.sqldf(sqlcode, locals()).drop(columns=['from_ip','to_ip','code'])"
   ]
  },
  {
   "cell_type": "code",
   "execution_count": 17,
   "metadata": {},
   "outputs": [
    {
     "data": {
      "text/plain": [
       "United States of America                                17658\n",
       "United Kingdom of Great Britain and Northern Ireland      378\n",
       "Canada                                                    371\n",
       "Germany                                                    94\n",
       "Switzerland                                                72\n",
       "France                                                     64\n",
       "India                                                      51\n",
       "Mexico                                                     36\n",
       "Hong Kong                                                  32\n",
       "Netherlands                                                23\n",
       "Antigua and Barbuda                                        22\n",
       "Spain                                                      16\n",
       "Ireland                                                    15\n",
       "Italy                                                      15\n",
       "Peru                                                       15\n",
       "Brazil                                                     14\n",
       "Australia                                                  10\n",
       "Austria                                                    10\n",
       "Bosnia and Herzegovina                                      9\n",
       "Sweden                                                      8\n",
       "Belgium                                                     7\n",
       "Japan                                                       6\n",
       "Portugal                                                    6\n",
       "Estonia                                                     5\n",
       "Mauritius                                                   5\n",
       "Iraq                                                        5\n",
       "Puerto Rico                                                 5\n",
       "Israel                                                      4\n",
       "Norway                                                      4\n",
       "Argentina                                                   4\n",
       "Philippines                                                 4\n",
       "Saudi Arabia                                                4\n",
       "Venezuela (Bolivarian Republic of)                          2\n",
       "China                                                       2\n",
       "Singapore                                                   2\n",
       "Barbados                                                    1\n",
       "Tunisia                                                     1\n",
       "Finland                                                     1\n",
       "Name: country, dtype: int64"
      ]
     },
     "execution_count": 17,
     "metadata": {},
     "output_type": "execute_result"
    }
   ],
   "source": [
    "newdf['country'].value_counts()"
   ]
  },
  {
   "cell_type": "code",
   "execution_count": 83,
   "metadata": {},
   "outputs": [],
   "source": []
  },
  {
   "cell_type": "code",
   "execution_count": 84,
   "metadata": {},
   "outputs": [
    {
     "data": {
      "text/plain": [
       "United States of America                                9416\n",
       "United Kingdom of Great Britain and Northern Ireland    1142\n",
       "China                                                    979\n",
       "Bulgaria                                                 340\n",
       "Canada                                                   241\n",
       "Italy                                                    200\n",
       "Ukraine                                                  182\n",
       "Netherlands                                              172\n",
       "Czechia                                                  159\n",
       "Russian Federation                                       146\n",
       "India                                                    133\n",
       "Hong Kong                                                109\n",
       "Korea (Republic of)                                       93\n",
       "Australia                                                 89\n",
       "Spain                                                     82\n",
       "Greece                                                    50\n",
       "Brazil                                                    46\n",
       "Germany                                                   37\n",
       "Estonia                                                   13\n",
       "France                                                    12\n",
       "Philippines                                                4\n",
       "Sweden                                                     2\n",
       "Colombia                                                   2\n",
       "Singapore                                                  2\n",
       "Japan                                                      1\n",
       "Iraq                                                       1\n",
       "Turkey                                                     1\n",
       "Ireland                                                    1\n",
       "Mexico                                                     1\n",
       "Name: country, dtype: int64"
      ]
     },
     "execution_count": 84,
     "metadata": {},
     "output_type": "execute_result"
    }
   ],
   "source": []
  },
  {
   "cell_type": "code",
   "execution_count": null,
   "metadata": {},
   "outputs": [],
   "source": []
  },
  {
   "cell_type": "code",
   "execution_count": 2,
   "metadata": {},
   "outputs": [],
   "source": []
  },
  {
   "cell_type": "code",
   "execution_count": null,
   "metadata": {},
   "outputs": [],
   "source": []
  },
  {
   "cell_type": "code",
   "execution_count": 39,
   "metadata": {},
   "outputs": [],
   "source": []
  },
  {
   "cell_type": "code",
   "execution_count": null,
   "metadata": {},
   "outputs": [],
   "source": []
  }
 ],
 "metadata": {
  "kernelspec": {
   "display_name": "Python 3",
   "language": "python",
   "name": "python3"
  },
  "language_info": {
   "codemirror_mode": {
    "name": "ipython",
    "version": 3
   },
   "file_extension": ".py",
   "mimetype": "text/x-python",
   "name": "python",
   "nbconvert_exporter": "python",
   "pygments_lexer": "ipython3",
   "version": "3.7.4"
  }
 },
 "nbformat": 4,
 "nbformat_minor": 2
}
