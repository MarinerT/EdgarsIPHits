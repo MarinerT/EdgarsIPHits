{
 "cells": [
  {
   "cell_type": "code",
   "execution_count": 131,
   "metadata": {},
   "outputs": [],
   "source": [
    "import pandas as pd\n",
    "import ipaddress\n",
    "import numpy as np\n",
    "import pandasql as ps\n",
    "import matplotlib.pyplot as plt\n",
    "import scipy.stats as stats\n",
    "\n",
    "%matplotlib inline"
   ]
  },
  {
   "cell_type": "code",
   "execution_count": 132,
   "metadata": {},
   "outputs": [],
   "source": [
    "#creating the dataframes\n",
    "htdf03 = pd.read_csv('~/Documents/Data/2003df.csv')\n",
    "htdf10 = pd.read_csv('~/Documents/Data/2010df.csv')\n",
    "htdf17 = pd.read_csv('~/Documents/Data/2017df.csv')"
   ]
  },
  {
   "cell_type": "code",
   "execution_count": null,
   "metadata": {},
   "outputs": [],
   "source": []
  },
  {
   "cell_type": "code",
   "execution_count": 133,
   "metadata": {},
   "outputs": [],
   "source": [
    "#adding a column for success/failure\n",
    "htdf03['s'] = np.where(htdf03['country']=='United States of America', 1, 0)\n",
    "htdf10['s'] = np.where(htdf10['country']=='United States of America', 1, 0)\n",
    "htdf17['s'] = np.where(htdf17['country']=='United States of America', 1, 0)"
   ]
  },
  {
   "cell_type": "code",
   "execution_count": 134,
   "metadata": {},
   "outputs": [],
   "source": [
    "#Summing the column 's' gives the number of successful hits of a US IP address\n",
    "total_US_hits2010 = sum(htdf10['s'])\n",
    "total_US_hits2017 = sum(htdf17['s'])\n",
    "total_hits2010 = len(htdf10)\n",
    "total_hits2017 = len(htdf17)\n",
    "\n",
    "sumofab = total_hits2017 + total_hits2010\n",
    "multofab = total_hits2017 * total_hits2010\n",
    "#calculating the value for the entire population\n",
    "shared_sample_freq = (total_US_hits2010 + total_US_hits2017) / sumofab\n",
    "shared_sample_variance = sumofab * (shared_sample_freq * (1 - shared_sample_freq)) / multofab\n",
    "\n",
    "diff_proportions = stats.norm(0, np.sqrt(shared_sample_variance))"
   ]
  },
  {
   "cell_type": "code",
   "execution_count": 121,
   "metadata": {},
   "outputs": [
    {
     "data": {
      "image/png": "[encoded data removed]",
      "text/plain": [
       "<Figure size 1152x216 with 1 Axes>"
      ]
     },
     "metadata": {
      "needs_background": "light"
     },
     "output_type": "display_data"
    }
   ],
   "source": [
    "fig, ax = plt.subplots(1, figsize=(16, 3))\n",
    "\n",
    "x = np.linspace(-1, 1, num=250)\n",
    "ax.plot(x, diff_proportions.pdf(x), linewidth=3)\n",
    "ax.set_xlim(-1, 1)\n",
    "ax.set_title(\"Distribution of Difference in Sample Frequencies Assuming $H_0$\")\n",
    "fig.savefig(\"DistributionofDiff_Null.png\")"
   ]
  },
  {
   "cell_type": "code",
   "execution_count": 62,
   "metadata": {},
   "outputs": [],
   "source": [
    "#Calculate the Probability of Finding a Result Equally or More Extreme than Actually Observed Assuming the Probabilistic Model You Created"
   ]
  },
  {
   "cell_type": "code",
   "execution_count": 122,
   "metadata": {},
   "outputs": [
    {
     "name": "stdout",
     "output_type": "stream",
     "text": [
      "Difference in sample proportions: -0.19\n"
     ]
    }
   ],
   "source": [
    "Freq2003 = a2003/b2003\n",
    "Freq2010 = a2010/b2010\n",
    "Freq2017 = a2017/b2017\n",
    "diff_sampproportions = Freq2017 - Freq2010\n",
    "print(\"Difference in sample proportions: {:2.2f}\".format(diff_sampproportions))"
   ]
  },
  {
   "cell_type": "code",
   "execution_count": 123,
   "metadata": {},
   "outputs": [
    {
     "name": "stdout",
     "output_type": "stream",
     "text": [
      "p-value for EDGAR US Hits frequency comparison: 1.000000\n"
     ]
    }
   ],
   "source": [
    "p_value = 1 - diff_proportions.cdf(diff_sampproportions)\n",
    "print(\"p-value for EDGAR US Hits frequency comparison: {:2f}\".format(p_value))"
   ]
  },
  {
   "cell_type": "code",
   "execution_count": 124,
   "metadata": {},
   "outputs": [
    {
     "data": {
      "image/png": "[encoded data removed]",
      "text/plain": [
       "<Figure size 1152x216 with 1 Axes>"
      ]
     },
     "metadata": {
      "needs_background": "light"
     },
     "output_type": "display_data"
    }
   ],
   "source": [
    "fig, ax = plt.subplots(1, figsize=(16, 3))\n",
    "\n",
    "x = np.linspace(-1, 1, num=250)\n",
    "ax.plot(x, diff_proportions.pdf(x), linewidth=3)\n",
    "ax.fill_between(x, diff_proportions.pdf(x), where=(x >= diff_sampproportions),\n",
    "                color=\"red\", alpha=0.5)\n",
    "ax.set_xlim(-1, 1)\n",
    "ax.set_title(\"p-value Region\")\n",
    "fig.savefig(\"p-valueRegion.png\")"
   ]
  },
  {
   "cell_type": "code",
   "execution_count": null,
   "metadata": {},
   "outputs": [],
   "source": [
    "#Checking This against a Z-Test for personal edification"
   ]
  },
  {
   "cell_type": "code",
   "execution_count": 125,
   "metadata": {},
   "outputs": [],
   "source": [
    "#total_US_hits2003 = sum(docdf03['s'])\n",
    "total_US_hits10 = sum(htdf10['s'])\n",
    "total_US_hits17 = sum(htdf17['s'])\n",
    "#total_hits2003 = len(docdf03)\n",
    "total_hits10 = len(htdf10)\n",
    "total_hits17 = len(htdf17)"
   ]
  },
  {
   "cell_type": "code",
   "execution_count": 126,
   "metadata": {},
   "outputs": [
    {
     "data": {
      "text/plain": [
       "0.7120403269564"
      ]
     },
     "execution_count": 126,
     "metadata": {},
     "output_type": "execute_result"
    }
   ],
   "source": [
    "diffsampprop = (total_US_hits17/total_hits17) - (total_US_hits10/total_hits10)\n",
    "pcombined = (total_US_hits17+total_US_hits10)/(total_hits17+total_hits10)\n",
    "pcombined"
   ]
  },
  {
   "cell_type": "code",
   "execution_count": 127,
   "metadata": {},
   "outputs": [],
   "source": [
    "totvar = np.sqrt((pcombined*(1-pcombined)/total_hits17)+(pcombined*(1-pcombined)/total_hits10))"
   ]
  },
  {
   "cell_type": "code",
   "execution_count": 128,
   "metadata": {},
   "outputs": [
    {
     "data": {
      "text/plain": [
       "0.003603206758956925"
      ]
     },
     "execution_count": 128,
     "metadata": {},
     "output_type": "execute_result"
    }
   ],
   "source": [
    "totvar"
   ]
  },
  {
   "cell_type": "code",
   "execution_count": 129,
   "metadata": {},
   "outputs": [],
   "source": [
    "z = diffsampprop/totvar"
   ]
  },
  {
   "cell_type": "code",
   "execution_count": 130,
   "metadata": {},
   "outputs": [
    {
     "data": {
      "text/plain": [
       "-53.33650200286285"
      ]
     },
     "execution_count": 130,
     "metadata": {},
     "output_type": "execute_result"
    }
   ],
   "source": [
    "z"
   ]
  },
  {
   "cell_type": "code",
   "execution_count": null,
   "metadata": {},
   "outputs": [],
   "source": []
  },
  {
   "cell_type": "code",
   "execution_count": null,
   "metadata": {},
   "outputs": [],
   "source": []
  },
  {
   "cell_type": "code",
   "execution_count": null,
   "metadata": {},
   "outputs": [],
   "source": []
  }
 ],
 "metadata": {
  "kernelspec": {
   "display_name": "Python 3",
   "language": "python",
   "name": "python3"
  },
  "language_info": {
   "codemirror_mode": {
    "name": "ipython",
    "version": 3
   },
   "file_extension": ".py",
   "mimetype": "text/x-python",
   "name": "python",
   "nbconvert_exporter": "python",
   "pygments_lexer": "ipython3",
   "version": "3.7.4"
  }
 },
 "nbformat": 4,
 "nbformat_minor": 2
}
