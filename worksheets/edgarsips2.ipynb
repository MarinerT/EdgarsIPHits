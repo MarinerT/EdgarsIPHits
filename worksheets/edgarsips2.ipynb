{
 "cells": [
  {
   "cell_type": "code",
   "execution_count": 2,
   "metadata": {},
   "outputs": [],
   "source": [
    "import pandas as pd\n",
    "import ipaddress\n",
    "import numpy as np\n",
    "import pandasql as ps"
   ]
  },
  {
   "cell_type": "code",
   "execution_count": 18,
   "metadata": {},
   "outputs": [],
   "source": [
    "filename = 'log20170630.csv'\n",
    "#parsing_dates didn't work.\n",
    "#couldn't use between times. "
   ]
  },
  {
   "cell_type": "code",
   "execution_count": 23,
   "metadata": {},
   "outputs": [],
   "source": [
    "def pipeline(filename):\n",
    "    df = pd.read_csv(filename,nrows=20000)\n",
    "    df['ip']= to_ipaddress(df['ip'])\n",
    "    df['date'] = pd.to_datetime(df['date'])\n",
    "    df['date'] = [date.date() for date in df['date']]\n",
    "    return df[['ip', 'date','cik','accession']]\n",
    "\n",
    "def to_ipaddress(arr): \n",
    "    arr = [np.char.replace(ip, ip[-3:],'000') for ip in arr]\n",
    "    return [int(ipaddress.IPv4Address(x)) for x in arr]\n",
    "\n",
    "def setupiptable(filename):\n",
    "    df = pd.read_csv(filename)\n",
    "    df.iloc[:,0] = df.iloc[:,0].apply(lambda x: int(ipaddress.IPv4Address(x)))\n",
    "    df.iloc[:,1] = df.iloc[:,1].apply(lambda x: int(ipaddress.IPv4Address(x)))\n",
    "    df.columns = [\"from_ip\",\"to_ip\",\"code\",\"country\"]\n",
    "    return df.drop(columns=['code'])"
   ]
  },
  {
   "cell_type": "code",
   "execution_count": 20,
   "metadata": {},
   "outputs": [],
   "source": [
    "df1 = pipeline(filename)\n"
   ]
  },
  {
   "cell_type": "code",
   "execution_count": 21,
   "metadata": {},
   "outputs": [
    {
     "data": {
      "text/html": [
       "<div>\n",
       "<style scoped>\n",
       "    .dataframe tbody tr th:only-of-type {\n",
       "        vertical-align: middle;\n",
       "    }\n",
       "\n",
       "    .dataframe tbody tr th {\n",
       "        vertical-align: top;\n",
       "    }\n",
       "\n",
       "    .dataframe thead th {\n",
       "        text-align: right;\n",
       "    }\n",
       "</style>\n",
       "<table border=\"1\" class=\"dataframe\">\n",
       "  <thead>\n",
       "    <tr style=\"text-align: right;\">\n",
       "      <th></th>\n",
       "      <th>from_ip</th>\n",
       "      <th>to_ip</th>\n",
       "      <th>country</th>\n",
       "    </tr>\n",
       "  </thead>\n",
       "  <tbody>\n",
       "    <tr>\n",
       "      <td>0</td>\n",
       "      <td>16777216</td>\n",
       "      <td>16777471</td>\n",
       "      <td>United States of America</td>\n",
       "    </tr>\n",
       "  </tbody>\n",
       "</table>\n",
       "</div>"
      ],
      "text/plain": [
       "    from_ip     to_ip                   country\n",
       "0  16777216  16777471  United States of America"
      ]
     },
     "execution_count": 21,
     "metadata": {},
     "output_type": "execute_result"
    }
   ],
   "source": [
    "dfgeo = setupiptable('~/Downloads/IP2LOCATION-LITE-DB1.CSV')\n",
    "dfgeo.head(1)"
   ]
  },
  {
   "cell_type": "code",
   "execution_count": null,
   "metadata": {},
   "outputs": [],
   "source": []
  },
  {
   "cell_type": "code",
   "execution_count": null,
   "metadata": {},
   "outputs": [],
   "source": []
  },
  {
   "cell_type": "code",
   "execution_count": 22,
   "metadata": {},
   "outputs": [],
   "source": [
    "sqlcode = '''\n",
    "    SELECT * \n",
    "    FROM df, dfgeo\n",
    "    WHERE ip BETWEEN from_ip AND to_ip\n",
    "'''\n",
    "newdf = ps.sqldf(sqlcode, locals()).drop(columns=['from_ip','to_ip'])"
   ]
  },
  {
   "cell_type": "code",
   "execution_count": null,
   "metadata": {},
   "outputs": [],
   "source": []
  },
  {
   "cell_type": "code",
   "execution_count": 24,
   "metadata": {},
   "outputs": [
    {
     "data": {
      "text/plain": [
       "United States of America                                35026\n",
       "China                                                    4541\n",
       "United Kingdom of Great Britain and Northern Ireland     4215\n",
       "Canada                                                    975\n",
       "Czechia                                                   841\n",
       "India                                                     545\n",
       "Italy                                                     520\n",
       "Ukraine                                                   488\n",
       "Bulgaria                                                  473\n",
       "Netherlands                                               450\n",
       "Hong Kong                                                 413\n",
       "Russian Federation                                        319\n",
       "Australia                                                 239\n",
       "Spain                                                     191\n",
       "Greece                                                    185\n",
       "Korea (Republic of)                                       169\n",
       "Brazil                                                    118\n",
       "Germany                                                   107\n",
       "Estonia                                                    84\n",
       "France                                                     50\n",
       "Turkey                                                     15\n",
       "Philippines                                                11\n",
       "Japan                                                       6\n",
       "Sweden                                                      4\n",
       "Mexico                                                      3\n",
       "Ireland                                                     3\n",
       "Singapore                                                   3\n",
       "Colombia                                                    2\n",
       "Viet Nam                                                    1\n",
       "Morocco                                                     1\n",
       "Iraq                                                        1\n",
       "Antigua and Barbuda                                         1\n",
       "Name: country, dtype: int64"
      ]
     },
     "execution_count": 24,
     "metadata": {},
     "output_type": "execute_result"
    }
   ],
   "source": [
    "newdf['country'].value_counts()"
   ]
  },
  {
   "cell_type": "code",
   "execution_count": 25,
   "metadata": {},
   "outputs": [],
   "source": [
    "sqlcode_topcik = '''\n",
    "    SELECT cik, accession, country, COUNT(*)\n",
    "    FROM newdf\n",
    "    GROUP BY cik\n",
    "    ORDER BY 4 DESC\n",
    "    LIMIT 20;\n",
    "'''\n",
    "#topcikdf= ps.sqldf(sqlcode_topcik, locals())"
   ]
  },
  {
   "cell_type": "code",
   "execution_count": null,
   "metadata": {},
   "outputs": [],
   "source": [
    "sqlcode_topcikbycountry = '''\n",
    "    SELECT cik, accession, country, COUNT(*)\n",
    "    FROM newdf\n",
    "    GROUP BY cik\n",
    "    ORDER BY 4 DESC\n",
    "    LIMIT 20;\n",
    "'''\n",
    "#topcikbycountrydf= ps.sqldf(sqlcode_topcikbycountry, locals())"
   ]
  },
  {
   "cell_type": "code",
   "execution_count": 2,
   "metadata": {},
   "outputs": [],
   "source": [
    "sqlcode_topdoc = '''\n",
    "    SELECT accession, country, COUNT(*)\n",
    "    FROM newdf\n",
    "    GROUP BY accession\n",
    "    ORDER BY 3 DESC\n",
    "    LIMIT 20;\n",
    "'''\n",
    "#topdocdf = ps.sqldf(sqlcode_topdoc, locals())"
   ]
  },
  {
   "cell_type": "code",
   "execution_count": null,
   "metadata": {},
   "outputs": [],
   "source": [
    "sqlcode_topdocbycountry = '''\n",
    "    SELECT COUNT(accession), country\n",
    "    FROM newdf\n",
    "    GROUP BY country\n",
    "    ORDER BY 1 DESC\n",
    "    LIMIT 20;\n",
    "'''\n",
    "#topdocbycountrydf= ps.sqldf(sqlcode_topdocbycountry, locals())"
   ]
  },
  {
   "cell_type": "code",
   "execution_count": 39,
   "metadata": {},
   "outputs": [],
   "source": []
  },
  {
   "cell_type": "code",
   "execution_count": null,
   "metadata": {},
   "outputs": [],
   "source": []
  }
 ],
 "metadata": {
  "kernelspec": {
   "display_name": "Python 3",
   "language": "python",
   "name": "python3"
  },
  "language_info": {
   "codemirror_mode": {
    "name": "ipython",
    "version": 3
   },
   "file_extension": ".py",
   "mimetype": "text/x-python",
   "name": "python",
   "nbconvert_exporter": "python",
   "pygments_lexer": "ipython3",
   "version": "3.7.4"
  }
 },
 "nbformat": 4,
 "nbformat_minor": 2
}
