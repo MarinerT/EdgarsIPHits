{
 "cells": [
  {
   "cell_type": "code",
   "execution_count": 141,
   "metadata": {},
   "outputs": [],
   "source": [
    "import pandas as pd\n",
    "import ipaddress\n",
    "import numpy as np\n",
    "import pandasql as ps\n",
    "import matplotlib.pyplot as plt\n",
    "from sklearn import preprocessing\n",
    "\n",
    "%matplotlib inline"
   ]
  },
  {
   "cell_type": "code",
   "execution_count": 3,
   "metadata": {},
   "outputs": [],
   "source": [
    " "
   ]
  },
  {
   "cell_type": "code",
   "execution_count": 14,
   "metadata": {},
   "outputs": [],
   "source": [
    "def pipeline(filename):\n",
    "    df = pd.read_csv(filename, names = ['ip','date','time','zone','cik','accession','extention','code','size','idx','norefer','noagent','find','crawler','browser'])\n",
    "    df['ip']= to_ipaddress(df['ip'])\n",
    "    df['date'] = pd.to_datetime(df['date'])\n",
    "    df['date'] = [date.date() for date in df['date']]\n",
    "    return df[['ip', 'date','cik','accession']]\n",
    "\n",
    "def to_ipaddress(arr): \n",
    "    arr = [np.char.replace(ip, ip[-3:],'000') for ip in arr]\n",
    "    return [int(ipaddress.IPv4Address(x)) for x in arr]\n",
    "\n",
    "def setupiptable(filename):\n",
    "    df = pd.read_csv(filename)\n",
    "    df.iloc[:,0] = df.iloc[:,0].apply(lambda x: int(ipaddress.IPv4Address(x)))\n",
    "    df.iloc[:,1] = df.iloc[:,1].apply(lambda x: int(ipaddress.IPv4Address(x)))\n",
    "    df.columns = [\"from_ip\",\"to_ip\",\"code\",\"country\"]\n",
    "    return df.drop(['code'],axis=1)"
   ]
  },
  {
   "cell_type": "code",
   "execution_count": 15,
   "metadata": {},
   "outputs": [],
   "source": [
    "df1 = pipeline('~/Documents/Data/openplustten2003.csv')\n",
    "df2 = pipeline('~/Documents/Data/openplustten2010.csv')\n",
    "df3 = pipeline('~/Documents/Data/openplustten2017.csv')\n",
    "dfgeo = setupiptable('~/Downloads/IP2LOCATION-LITE-DB1.CSV')"
   ]
  },
  {
   "cell_type": "code",
   "execution_count": 16,
   "metadata": {},
   "outputs": [],
   "source": [
    "sql1code = '''\n",
    "    SELECT * \n",
    "    FROM df1, dfgeo\n",
    "    WHERE ip BETWEEN from_ip AND to_ip\n",
    "'''\n",
    "newdf1 = ps.sqldf(sql1code, locals()).drop(columns=['from_ip','to_ip'])"
   ]
  },
  {
   "cell_type": "code",
   "execution_count": 17,
   "metadata": {},
   "outputs": [],
   "source": [
    "sql2code = '''\n",
    "    SELECT * \n",
    "    FROM df2, dfgeo\n",
    "    WHERE ip BETWEEN from_ip AND to_ip\n",
    "'''\n",
    "newdf2 = ps.sqldf(sql2code, locals()).drop(columns=['from_ip','to_ip'])"
   ]
  },
  {
   "cell_type": "code",
   "execution_count": null,
   "metadata": {},
   "outputs": [],
   "source": []
  },
  {
   "cell_type": "code",
   "execution_count": 18,
   "metadata": {},
   "outputs": [],
   "source": [
    "sql3code = '''\n",
    "    SELECT * \n",
    "    FROM df3, dfgeo\n",
    "    WHERE ip BETWEEN from_ip AND to_ip\n",
    "'''\n",
    "newdf3 = ps.sqldf(sql3code, locals()).drop(columns=['from_ip','to_ip'])"
   ]
  },
  {
   "cell_type": "code",
   "execution_count": 19,
   "metadata": {},
   "outputs": [],
   "source": [
    "newdf1.to_csv('~/Documents/Data/2003df.csv')\n",
    "newdf2.to_csv('~/Documents/Data/2010df.csv')\n",
    "newdf3.to_csv('~/Documents/Data/2017df.csv')"
   ]
  },
  {
   "cell_type": "code",
   "execution_count": 165,
   "metadata": {},
   "outputs": [],
   "source": [
    "covertime = {'Year':[2003,2010,2017], 'Number of Countries': [len(newdf1['country'].value_counts()), len(newdf2['country'].value_counts()), len(newdf3['country'].value_counts())]}"
   ]
  },
  {
   "cell_type": "code",
   "execution_count": 167,
   "metadata": {},
   "outputs": [
    {
     "data": {
      "image/png": "[encoded data removed]",
      "text/plain": [
       "<Figure size 432x288 with 1 Axes>"
      ]
     },
     "metadata": {
      "needs_background": "light"
     },
     "output_type": "display_data"
    }
   ],
   "source": [
    "labels = covertime[\"Year\"]\n",
    "numco = covertime['Number of Countries']\n",
    "\n",
    "x = np.arange(len(labels))  # the label locations\n",
    "width = 0.35  # the width of the bars\n",
    "\n",
    "fig, ax = plt.subplots()\n",
    "rects1 = ax.bar(x - width/2, numco, width, label='Year')\n",
    "\n",
    "\n",
    "# Add some text for labels, title and custom x-axis tick labels, etc.\n",
    "ax.set_ylabel('Number of Countries')\n",
    "ax.set_title('Number of Countries by IP Address Origin')\n",
    "ax.set_xticks(x)\n",
    "ax.set_xticklabels(labels)\n",
    "\n",
    "fig.savefig('numco.png')"
   ]
  },
  {
   "cell_type": "code",
   "execution_count": 168,
   "metadata": {},
   "outputs": [
    {
     "data": {
      "image/png": "[encoded data removed]",
      "text/plain": [
       "<Figure size 432x288 with 1 Axes>"
      ]
     },
     "metadata": {
      "needs_background": "light"
     },
     "output_type": "display_data"
    }
   ],
   "source": [
    "d_doc = {\"Year\":[2003,2010,2017],\"Number of Documents\":[len(newdf1['accession'].value_counts()), len(newdf2['accession'].value_counts()), len(newdf3['accession'].value_counts())]}\n",
    "labelsd = d_doc[\"Year\"]\n",
    "numdoc = d_doc['Number of Documents']\n",
    "\n",
    "x = np.arange(len(labelsd))  # the label locations\n",
    "width = 0.35  # the width of the bars\n",
    "\n",
    "fig, ax = plt.subplots()\n",
    "rects1 = ax.bar(x - width/2, numco, width, label='Year')\n",
    "\n",
    "\n",
    "# Add some text for labels, title and custom x-axis tick labels, etc.\n",
    "ax.set_ylabel('Number of Documents')\n",
    "ax.set_title('Number of Documents')\n",
    "ax.set_xticks(x)\n",
    "ax.set_xticklabels(labelsd)\n",
    "\n",
    "fig.savefig('numdoc.png')"
   ]
  },
  {
   "cell_type": "code",
   "execution_count": 169,
   "metadata": {},
   "outputs": [
    {
     "data": {
      "image/png": "[encoded data removed]",
      "text/plain": [
       "<Figure size 432x288 with 1 Axes>"
      ]
     },
     "metadata": {
      "needs_background": "light"
     },
     "output_type": "display_data"
    }
   ],
   "source": [
    "d_filer = {\"Year\":[2003,2010,2017],\"Number of Filers\":[len(newdf1['cik'].value_counts()), len(newdf2['cik'].value_counts()), len(newdf3['cik'].value_counts())]}\n",
    "labelsf = d_filer[\"Year\"]\n",
    "numfiler = d_filer['Number of Filers']\n",
    "\n",
    "x = np.arange(len(labelsf))  # the label locations\n",
    "width = 0.35  # the width of the bars\n",
    "\n",
    "fig, ax = plt.subplots()\n",
    "rects1 = ax.bar(x - width/2, numco, width, label='Year')\n",
    "\n",
    "\n",
    "# Add some text for labels, title and custom x-axis tick labels, etc.\n",
    "ax.set_ylabel('Number of Filers')\n",
    "ax.set_title('Number of Filers')\n",
    "ax.set_xticks(x)\n",
    "ax.set_xticklabels(labelsf)\n",
    "\n",
    "fig.savefig('numfiler.png')"
   ]
  },
  {
   "cell_type": "code",
   "execution_count": 105,
   "metadata": {},
   "outputs": [
    {
     "data": {
      "text/plain": [
       "United States of America                                0.900209\n",
       "United Kingdom of Great Britain and Northern Ireland    0.026646\n",
       "France                                                  0.009927\n",
       "Uruguay                                                 0.009404\n",
       "Canada                                                  0.008359\n",
       "Israel                                                  0.006270\n",
       "Germany                                                 0.006270\n",
       "Belgium                                                 0.005225\n",
       "India                                                   0.005225\n",
       "Singapore                                               0.004180\n",
       "Italy                                                   0.003135\n",
       "Hong Kong                                               0.003135\n",
       "Sweden                                                  0.001567\n",
       "Morocco                                                 0.001567\n",
       "Greece                                                  0.001567\n",
       "Netherlands                                             0.001567\n",
       "Switzerland                                             0.001045\n",
       "Japan                                                   0.001045\n",
       "Taiwan (Province of China)                              0.001045\n",
       "Russian Federation                                      0.001045\n",
       "Ireland                                                 0.001045\n",
       "Brazil                                                  0.000522\n",
       "Name: country, dtype: float64"
      ]
     },
     "execution_count": 105,
     "metadata": {},
     "output_type": "execute_result"
    }
   ],
   "source": [
    "newdf1['country'].value_counts(normalize=True)"
   ]
  },
  {
   "cell_type": "code",
   "execution_count": 138,
   "metadata": {},
   "outputs": [
    {
     "data": {
      "text/plain": [
       "United States of America                                0.884489\n",
       "Canada                                                  0.027898\n",
       "United Kingdom of Great Britain and Northern Ireland    0.019716\n",
       "India                                                   0.017784\n",
       "-                                                       0.016989\n",
       "Germany                                                 0.003466\n",
       "Sweden                                                  0.003295\n",
       "China                                                   0.002898\n",
       "Brazil                                                  0.002841\n",
       "Israel                                                  0.002841\n",
       "Hong Kong                                               0.002727\n",
       "France                                                  0.002216\n",
       "Philippines                                             0.001591\n",
       "Slovakia                                                0.001364\n",
       "Switzerland                                             0.001250\n",
       "Japan                                                   0.000966\n",
       "Netherlands                                             0.000739\n",
       "Lebanon                                                 0.000739\n",
       "Nicaragua                                               0.000682\n",
       "Ireland                                                 0.000568\n",
       "Mexico                                                  0.000511\n",
       "Singapore                                               0.000398\n",
       "Romania                                                 0.000398\n",
       "Argentina                                               0.000398\n",
       "Russian Federation                                      0.000341\n",
       "Estonia                                                 0.000341\n",
       "Australia                                               0.000341\n",
       "Bulgaria                                                0.000227\n",
       "Uzbekistan                                              0.000170\n",
       "Pakistan                                                0.000170\n",
       "Luxembourg                                              0.000170\n",
       "Jersey                                                  0.000170\n",
       "Greece                                                  0.000114\n",
       "Turkey                                                  0.000114\n",
       "Finland                                                 0.000114\n",
       "Bermuda                                                 0.000114\n",
       "Costa Rica                                              0.000114\n",
       "South Africa                                            0.000114\n",
       "Belgium                                                 0.000114\n",
       "Italy                                                   0.000114\n",
       "Kuwait                                                  0.000057\n",
       "Austria                                                 0.000057\n",
       "Norway                                                  0.000057\n",
       "Denmark                                                 0.000057\n",
       "Spain                                                   0.000057\n",
       "United Arab Emirates                                    0.000057\n",
       "Taiwan (Province of China)                              0.000057\n",
       "Name: country, dtype: float64"
      ]
     },
     "execution_count": 138,
     "metadata": {},
     "output_type": "execute_result"
    }
   ],
   "source": [
    "newdf2['country'].value_counts(normalize=True)"
   ]
  },
  {
   "cell_type": "code",
   "execution_count": 153,
   "metadata": {},
   "outputs": [],
   "source": [
    "x03 = newdf1['country'].value_counts(normalize=True)\n",
    "x10 = newdf2['country'].value_counts(normalize=True)\n",
    "x17 = newdf3['country'].value_counts(normalize=True)"
   ]
  },
  {
   "cell_type": "code",
   "execution_count": 163,
   "metadata": {},
   "outputs": [
    {
     "data": {
      "text/plain": [
       "0.900208986415883"
      ]
     },
     "execution_count": 163,
     "metadata": {},
     "output_type": "execute_result"
    }
   ],
   "source": [
    "US03 = x03[0]\n",
    "US10 = x10[0]\n",
    "US17 = x17[0]\n",
    "US03"
   ]
  },
  {
   "cell_type": "code",
   "execution_count": 155,
   "metadata": {},
   "outputs": [],
   "source": [
    "Gb03 = 1 - US03\n",
    "Gb10 = 1 - US10\n",
    "Gb17 = 1 - US17"
   ]
  },
  {
   "cell_type": "code",
   "execution_count": 156,
   "metadata": {},
   "outputs": [],
   "source": [
    "d = {\"Year\":[2003,2010,2017],\"US Hits\":[US03, US10, US17],\"Global Hits\":[Gb03,Gb10,Gb17]}"
   ]
  },
  {
   "cell_type": "code",
   "execution_count": 162,
   "metadata": {},
   "outputs": [
    {
     "data": {
      "image/png": "[encoded data removed]",
      "text/plain": [
       "<Figure size 432x288 with 1 Axes>"
      ]
     },
     "metadata": {
      "needs_background": "light"
     },
     "output_type": "display_data"
    }
   ],
   "source": [
    "labels = d[\"Year\"]\n",
    "US_hits = d['US Hits']\n",
    "GB_hits = d['Global Hits']\n",
    "\n",
    "x = np.arange(len(labels))  # the label locations\n",
    "width = 0.35  # the width of the bars\n",
    "\n",
    "fig, ax = plt.subplots()\n",
    "rects1 = ax.bar(x - width/2, US_hits, width, label='US Hits')\n",
    "rects2 = ax.bar(x + width/2, GB_hits, width, label='Global Hits')\n",
    "\n",
    "# Add some text for labels, title and custom x-axis tick labels, etc.\n",
    "ax.set_ylabel('Normalized Value Count')\n",
    "ax.set_title('Normalized Count by US/Global by Year')\n",
    "ax.set_xticks(x)\n",
    "ax.set_xticklabels(labels)\n",
    "ax.legend()\n",
    "\n",
    "fig.savefig('USvGB.png')"
   ]
  },
  {
   "cell_type": "code",
   "execution_count": null,
   "metadata": {},
   "outputs": [],
   "source": [
    "# first = []\n",
    "# second = []\n",
    "# third = []\n",
    "# fourth = []\n",
    "# fifth = []"
   ]
  },
  {
   "cell_type": "code",
   "execution_count": null,
   "metadata": {},
   "outputs": [],
   "source": [
    "\n",
    "# d_top5 = {\"Year\":[2003,2010,2017],\"1\":first,\"2\":second], \"3\":third, \"4\":fourth,\"5\":fifth}\n",
    "# labels = d_top5[\"Year\"]\n",
    "# First_hits = d_top5['1']\n",
    "# Second_hits = d_top5['2']\n",
    "# Third_hits = d_top5['3']\n",
    "# Fourth_hits = d_top5['4']\n",
    "# Fifth_hits = d_top5['5']\n",
    "\n",
    "# x = np.arange(len(labels))  # the label locations\n",
    "# width = 0.35  # the width of the bars\n",
    "\n",
    "# fig, ax = plt.subplots()\n",
    "# rects1 = ax.bar(x - width/2, US_hits, width, label='US Hits')\n",
    "# rects2 = ax.bar(x + width/2, GB_hits, width, label='Global Hits')\n",
    "\n",
    "# # Add some text for labels, title and custom x-axis tick labels, etc.\n",
    "# ax.set_ylabel('Normalized Value Count')\n",
    "# ax.set_title('Top 5 Countries by Year')\n",
    "# ax.set_xticks(x)\n",
    "# ax.set_xticklabels(labels)\n",
    "# ax.legend()\n",
    "\n",
    "# #fig.savefig('top5countriesbyyear.png')"
   ]
  },
  {
   "cell_type": "code",
   "execution_count": null,
   "metadata": {},
   "outputs": [],
   "source": []
  }
 ],
 "metadata": {
  "kernelspec": {
   "display_name": "Python 3",
   "language": "python",
   "name": "python3"
  }
 },
 "nbformat": 4,
 "nbformat_minor": 2
}
